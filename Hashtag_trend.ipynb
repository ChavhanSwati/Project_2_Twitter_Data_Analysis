{
 "cells": [
  {
   "cell_type": "code",
   "execution_count": 1,
   "id": "013d5ea5",
   "metadata": {},
   "outputs": [
    {
     "data": {
      "text/html": [
       "\n",
       "            <div>\n",
       "                <p><b>SparkSession - hive</b></p>\n",
       "                \n",
       "        <div>\n",
       "            <p><b>SparkContext</b></p>\n",
       "\n",
       "            <p><a href=\"http://LAPTOP-3ENTUI2M:4041\">Spark UI</a></p>\n",
       "\n",
       "            <dl>\n",
       "              <dt>Version</dt>\n",
       "                <dd><code>v3.1.2</code></dd>\n",
       "              <dt>Master</dt>\n",
       "                <dd><code>local[*]</code></dd>\n",
       "              <dt>AppName</dt>\n",
       "                <dd><code>PySparkShell</code></dd>\n",
       "            </dl>\n",
       "        </div>\n",
       "        \n",
       "            </div>\n",
       "        "
      ],
      "text/plain": [
       "<pyspark.sql.session.SparkSession at 0x180bf8364c0>"
      ]
     },
     "execution_count": 1,
     "metadata": {},
     "output_type": "execute_result"
    }
   ],
   "source": [
    "import pyspark\n",
    "from pyspark import SparkContext\n",
    "sc = SparkContext.getOrCreate();\n",
    "import findspark\n",
    "findspark.init()\n",
    "from pyspark.sql import SparkSession\n",
    "spark = SparkSession.builder.master(\"local[*]\").getOrCreate()\n",
    "spark.conf.set(\"spark.sql.repl.eagerEval.enabled\", True) # Property used to format output tables better\n",
    "spark"
   ]
  },
  {
   "cell_type": "code",
   "execution_count": 2,
   "id": "a1829bcd",
   "metadata": {},
   "outputs": [],
   "source": [
    "sc.stop()"
   ]
  },
  {
   "cell_type": "code",
   "execution_count": 3,
   "id": "f4286fff",
   "metadata": {},
   "outputs": [],
   "source": [
    "from __future__ import print_function\n",
    "from pyspark import SparkContext\n",
    "from pyspark.streaming import StreamingContext"
   ]
  },
  {
   "cell_type": "code",
   "execution_count": 4,
   "id": "12c375ae",
   "metadata": {},
   "outputs": [],
   "source": [
    "\n",
    "sc=SparkContext(appName=\"StreamingTwitterAnalysis\")\n",
    "sc.setLogLevel(\"ERROR\")\n",
    "ssc=StreamingContext(sc,10)"
   ]
  },
  {
   "cell_type": "code",
   "execution_count": 5,
   "id": "78e1fe6b",
   "metadata": {},
   "outputs": [],
   "source": [
    "socket_stream = ssc.socketTextStream(\"127.0.0.1\",9998)"
   ]
  },
  {
   "cell_type": "code",
   "execution_count": 6,
   "id": "67865789",
   "metadata": {},
   "outputs": [],
   "source": [
    "lines=socket_stream.window(60)"
   ]
  },
  {
   "cell_type": "code",
   "execution_count": 7,
   "id": "f09b845a",
   "metadata": {},
   "outputs": [],
   "source": [
    "hashtags = lines.flatMap(lambda text:text.split(\" \")).filter(lambda word:word.lower().startswith('#')).map(lambda word:(word.lower(),1)).reduceByKey(lambda a,b:a+b)"
   ]
  },
  {
   "cell_type": "code",
   "execution_count": 8,
   "id": "8b61abd6",
   "metadata": {},
   "outputs": [],
   "source": [
    "author_counts_sorted_dstream=hashtags.transform(lambda foo:foo.sortBy(lambda x:x[0].lower()).sortBy(lambda x:x[1],ascending=False))"
   ]
  },
  {
   "cell_type": "code",
   "execution_count": 9,
   "id": "28025e29",
   "metadata": {},
   "outputs": [],
   "source": [
    "author_counts_sorted_dstream.pprint()"
   ]
  },
  {
   "cell_type": "code",
   "execution_count": 10,
   "id": "def7f8a6",
   "metadata": {},
   "outputs": [],
   "source": [
    "ssc.start()"
   ]
  },
  {
   "cell_type": "code",
   "execution_count": null,
   "id": "8dda5639",
   "metadata": {},
   "outputs": [
    {
     "name": "stdout",
     "output_type": "stream",
     "text": [
      "-------------------------------------------\n",
      "Time: 2021-08-13 00:10:50\n",
      "-------------------------------------------\n",
      "\n",
      "-------------------------------------------\n",
      "Time: 2021-08-13 00:11:00\n",
      "-------------------------------------------\n",
      "\n",
      "-------------------------------------------\n",
      "Time: 2021-08-13 00:11:10\n",
      "-------------------------------------------\n",
      "\n",
      "-------------------------------------------\n",
      "Time: 2021-08-13 00:11:20\n",
      "-------------------------------------------\n",
      "('#bolnew…rt', 1)\n",
      "('#sanctionpakistan', 1)\n",
      "\n",
      "-------------------------------------------\n",
      "Time: 2021-08-13 00:11:30\n",
      "-------------------------------------------\n",
      "(\"#assange's\", 2)\n",
      "('#bolnew…rt', 1)\n",
      "('#globalcabal', 1)\n",
      "('#joebiden', 1)\n",
      "('#media', 1)\n",
      "('#puppet', 1)\n",
      "('#sanctionpakistan', 1)\n",
      "('#sanctionpakistanrt', 1)\n",
      "('#tigray,', 1)\n",
      "('#tplf', 1)\n",
      "...\n",
      "\n",
      "-------------------------------------------\n",
      "Time: 2021-08-13 00:11:40\n",
      "-------------------------------------------\n",
      "(\"#assange's\", 5)\n",
      "('#joebiden', 2)\n",
      "('#america.', 1)\n",
      "('#bloomberg…', 1)\n",
      "('#bolnew…rt', 1)\n",
      "('#foxbusiness', 1)\n",
      "('#foxnews', 1)\n",
      "('#freeoteroalcantarart', 1)\n",
      "('#globalcabal', 1)\n",
      "('#media', 1)\n",
      "...\n",
      "\n"
     ]
    }
   ],
   "source": [
    "ssc.awaitTermination()"
   ]
  },
  {
   "cell_type": "code",
   "execution_count": null,
   "id": "05e0c475",
   "metadata": {},
   "outputs": [],
   "source": []
  },
  {
   "cell_type": "code",
   "execution_count": null,
   "id": "ad88e01b",
   "metadata": {},
   "outputs": [],
   "source": []
  },
  {
   "cell_type": "code",
   "execution_count": null,
   "id": "b97c9eb7",
   "metadata": {},
   "outputs": [],
   "source": []
  },
  {
   "cell_type": "code",
   "execution_count": null,
   "id": "c0794a21",
   "metadata": {},
   "outputs": [],
   "source": []
  }
 ],
 "metadata": {
  "kernelspec": {
   "display_name": "Python 3",
   "language": "python",
   "name": "python3"
  },
  "language_info": {
   "codemirror_mode": {
    "name": "ipython",
    "version": 3
   },
   "file_extension": ".py",
   "mimetype": "text/x-python",
   "name": "python",
   "nbconvert_exporter": "python",
   "pygments_lexer": "ipython3",
   "version": "3.8.8"
  }
 },
 "nbformat": 4,
 "nbformat_minor": 5
}
